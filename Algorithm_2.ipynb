{
 "cells": [
  {
   "cell_type": "markdown",
   "metadata": {},
   "source": [
    "#### Algorithm 2"
   ]
  },
  {
   "cell_type": "code",
   "execution_count": 1,
   "metadata": {},
   "outputs": [],
   "source": [
    "import numpy as np\n",
    "import pandas as pd\n",
    "import seaborn as sns\n",
    "import tensorly as tl\n",
    "import scipy.io\n",
    "\n",
    "from keras.datasets import mnist\n",
    "\n",
    "sns.set_theme()"
   ]
  },
  {
   "cell_type": "code",
   "execution_count": 2,
   "metadata": {},
   "outputs": [],
   "source": [
    "def construct_tensor(A_train, D_train, k):\n",
    "    \n",
    "    makszn = (D_train[0]== np.bincount(D_train[0]).argmax()).sum()\n",
    "    \n",
    "    T = np.zeros((A_train.shape[0],makszn,k))\n",
    "\n",
    "    for i in range(k):    \n",
    "        for j in range(makszn):       \n",
    "            if(j >= len(np.where(D_train==i)[1])):\n",
    "                mjesto = np.random.randint(0, len(np.where(D_train==i)[1])-1)           \n",
    "                T[:,j,i]=A_train[:, np.where(D_train == i)[1]][:,mjesto]\n",
    "        \n",
    "            else:\n",
    "                T[:,j,i]=A_train[:, np.where(D_train == i)[1]][:,j]\n",
    "    \n",
    "    return(T)"
   ]
  },
  {
   "cell_type": "code",
   "execution_count": 3,
   "metadata": {},
   "outputs": [],
   "source": [
    "def multiplication(T, M, mode): \n",
    "    \n",
    "    descriptor = list(T.shape)\n",
    "    descriptor[mode] = M.shape[0]\n",
    "    pom = tl.unfold(T, mode)\n",
    "    \n",
    "    return (tl.fold( M @ pom, mode, descriptor))   "
   ]
  },
  {
   "cell_type": "code",
   "execution_count": 4,
   "metadata": {},
   "outputs": [],
   "source": [
    "def HOSVD(T, p, q): \n",
    "    \n",
    "    U1, _, _ = np.linalg.svd(tl.unfold(T, 0), full_matrices=False)\n",
    "    U2, _, _ = np.linalg.svd(tl.unfold(T, 1), full_matrices=False)\n",
    "    \n",
    "    F_ = multiplication(T, np.transpose(U1[:, 0:p]), 0)\n",
    "    F = multiplication(F_, np.transpose(U2[:, 0:q]), 1)\n",
    "    \n",
    "    return F, U1[:, 0:p]"
   ]
  },
  {
   "cell_type": "code",
   "execution_count": 5,
   "metadata": {},
   "outputs": [],
   "source": [
    "def alg2_train(F, k, l):\n",
    "    \n",
    "    B = np.zeros((F.shape[0], l, k))\n",
    "    \n",
    "    for mi in range(F.shape[2]):\n",
    "        U, _, _ = np.linalg.svd(F[:, :, mi], full_matrices=False)\n",
    "        B[:, :, mi] = U[:, 0:l]\n",
    "        \n",
    "    return(B)"
   ]
  },
  {
   "cell_type": "code",
   "execution_count": 6,
   "metadata": {},
   "outputs": [],
   "source": [
    "def alg2_test(A_test, B, U_p):\n",
    "    \n",
    "    digits = []\n",
    "    \n",
    "    for j in range(A_test.shape[1]): \n",
    "        \n",
    "        d = A_test[:, j]\n",
    "        d = np.transpose(U_p) @ d \n",
    "        \n",
    "        r_min =  np.Inf\n",
    "        \n",
    "        for k in range(B.shape[2]): \n",
    "\n",
    "            r = np.linalg.norm(d - (B[:,:,k] @ (np.transpose(B[:,:, k]) @ d)))\n",
    "            \n",
    "            if(r < r_min):\n",
    "                r_min = r \n",
    "                digit = k\n",
    "                \n",
    "        digits.append(digit)\n",
    "\n",
    "    return digits "
   ]
  },
  {
   "cell_type": "markdown",
   "metadata": {},
   "source": [
    "#### Application of the algorithm for the MNIST digits"
   ]
  },
  {
   "cell_type": "code",
   "execution_count": 7,
   "metadata": {},
   "outputs": [],
   "source": [
    "(train_X, train_y), (test_X, test_y) = mnist.load_data()\n",
    "\n",
    "train_y = np.transpose(np.reshape(train_y, (60000,1)))\n",
    "test_y = np.transpose(np.reshape(test_y, (10000,1)))"
   ]
  },
  {
   "cell_type": "code",
   "execution_count": 8,
   "metadata": {},
   "outputs": [],
   "source": [
    "A_train = np.empty([train_X.shape[1] ** 2, train_X.shape[0]])\n",
    "\n",
    "for i in range(train_X.shape[0]):\n",
    "    A_train[:,i] = np.reshape(train_X[i],(28*28,)) \n",
    "    \n",
    "D_train = train_y\n",
    "\n",
    "A_test = np.empty([test_X.shape[1] ** 2, test_X.shape[0]])\n",
    "\n",
    "for i in range(test_X.shape[0]):\n",
    "    A_test[:,i] = np.reshape(test_X[i],(test_X.shape[1]**2,))\n",
    "    \n",
    "D_test = test_y\n",
    "\n",
    "k = np.unique(D_train).size\n",
    "\n",
    "p = 250\n",
    "\n",
    "q = 100"
   ]
  },
  {
   "cell_type": "code",
   "execution_count": 49,
   "metadata": {},
   "outputs": [
    {
     "data": {
      "text/plain": [
       "0.9378"
      ]
     },
     "execution_count": 49,
     "metadata": {},
     "output_type": "execute_result"
    }
   ],
   "source": [
    "T = construct_tensor(A_train[:, :5000], D_train[:, :5000], k)\n",
    "\n",
    "F, U_p = HOSVD(T, p, q) \n",
    "\n",
    "B = alg2_train(F,k)\n",
    "\n",
    "predictions = alg2_test(A_test, B, U_p)\n",
    "\n",
    "np.count_nonzero(predictions == D_test[0]) / len(D_test[0])"
   ]
  },
  {
   "cell_type": "code",
   "execution_count": 7,
   "metadata": {},
   "outputs": [],
   "source": [
    "mat = scipy.io.loadmat('azip.mat')\n",
    "A_train = mat['azip'] \n",
    "mat = scipy.io.loadmat('dzip.mat')\n",
    "D_train = mat['dzip'] \n",
    "\n",
    "mat = scipy.io.loadmat('atest.mat')\n",
    "A_test = mat['testzip'] \n",
    "mat = scipy.io.loadmat('dtest.mat')\n",
    "D_test = mat['dtest'] \n",
    "\n",
    "k = np.unique(D_train).size"
   ]
  },
  {
   "cell_type": "code",
   "execution_count": 8,
   "metadata": {},
   "outputs": [
    {
     "data": {
      "text/plain": [
       "0.9252615844544095"
      ]
     },
     "execution_count": 8,
     "metadata": {},
     "output_type": "execute_result"
    }
   ],
   "source": [
    "T = construct_tensor(A_train, D_train, k)\n",
    "\n",
    "F, U_p = HOSVD(T, 64, 64) \n",
    "\n",
    "B = alg2_train(F,k,30)\n",
    "\n",
    "predictions = alg2_test(A_test, B, U_p)\n",
    "\n",
    "np.count_nonzero(predictions == D_test[0]) / len(D_test[0])"
   ]
  },
  {
   "cell_type": "code",
   "execution_count": 88,
   "metadata": {},
   "outputs": [],
   "source": [
    "mojalista1 = list()\n",
    "mojalista2 = list()\n",
    "mojalista3 = list()\n",
    "\n",
    "p_list = np.array((32,64,64))\n",
    "q_list = np.array((32,48, 64))\n",
    "l_list = np.array(range(4,17))\n",
    "\n",
    "T = construct_tensor(A_train, D_train, k)\n",
    "\n",
    "for i in range(p_list.shape[0]): \n",
    "    \n",
    "    for j in l_list:\n",
    "    \n",
    "        F, U_p = HOSVD(T, p_list[i], q_list[i]) \n",
    "        B = alg2_train(F, k, j)\n",
    "    \n",
    "        predictions = alg2_test(A_test, B, U_p)\n",
    "    \n",
    "        pom_ = np.count_nonzero(predictions == D_test[0]) / len(D_test[0]) \n",
    "        \n",
    "        if( i == 0):\n",
    "             mojalista1.append(pom_)  \n",
    "        if( i == 1):\n",
    "             mojalista2.append(pom_)  \n",
    "        if( i == 2):\n",
    "             mojalista3.append(pom_)  "
   ]
  },
  {
   "cell_type": "code",
   "execution_count": 89,
   "metadata": {},
   "outputs": [
    {
     "data": {
      "text/plain": [
       "<AxesSubplot:>"
      ]
     },
     "execution_count": 89,
     "metadata": {},
     "output_type": "execute_result"
    },
    {
     "data": {
      "image/png": "[encoded data removed]",
      "text/plain": [
       "<Figure size 432x288 with 1 Axes>"
      ]
     },
     "metadata": {},
     "output_type": "display_data"
    }
   ],
   "source": [
    "df= pd.DataFrame(data = {'32x32':mojalista1,'64x48':mojalista2,'64x64':mojalista3}, index = l_list) \n",
    "sns.lineplot(data = df)"
   ]
  }
 ],
 "metadata": {
  "interpreter": {
   "hash": "eeb592eeb14baf80ba7e3ad598b9cc718d92fa62785d72005ca19f7c0e0c833d"
  },
  "kernelspec": {
   "display_name": "Python 3",
   "language": "python",
   "name": "python3"
  },
  "language_info": {
   "codemirror_mode": {
    "name": "ipython",
    "version": 3
   },
   "file_extension": ".py",
   "mimetype": "text/x-python",
   "name": "python",
   "nbconvert_exporter": "python",
   "pygments_lexer": "ipython3",
   "version": "3.8.8"
  }
 },
 "nbformat": 4,
 "nbformat_minor": 2
}
